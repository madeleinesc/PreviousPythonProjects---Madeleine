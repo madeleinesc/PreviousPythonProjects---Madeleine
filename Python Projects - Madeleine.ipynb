{
 "cells": [
  {
   "cell_type": "markdown",
   "metadata": {},
   "source": [
    "# PYTHON PROJECTS: *a sample of previous work I have done*"
   ]
  },
  {
   "cell_type": "markdown",
   "metadata": {},
   "source": [
    "**BMI calculator:**"
   ]
  },
  {
   "cell_type": "markdown",
   "metadata": {},
   "source": [
    "*A very simple calculator to determine Body Mass Index through asking the user to input their height and weight, then calculating the BMI using 'BMI = weight/(height/100)**2'.*"
   ]
  },
  {
   "cell_type": "code",
   "execution_count": null,
   "metadata": {},
   "outputs": [],
   "source": [
    "print(\"BMI CALCULATOR\\n\")\n",
    "height = float(input(\"Enter your height in cm: \")) #input function for user height (cm)\n",
    "weight = float(input(\"Enter your weight in kg: \")) #input function for user weight (kg)\n",
    "BMI = weight/(height/100)**2                       #weight divided by square root of height to get BMI\n",
    "print(f\"Your BMI is: {BMI}\")"
   ]
  },
  {
   "cell_type": "markdown",
   "metadata": {},
   "source": [
    "**Data values in specified units - Blood glucose levels:**"
   ]
  },
  {
   "cell_type": "markdown",
   "metadata": {},
   "source": [
    "*Normal blood glucose levels are usually between 60 - 126 mg/dL but within Australia, these units are reported in mmol/L.*\n",
    "*Below is a program designed to print out a specific amount of value points (within the normal blood glucose range) as specified by the user input.*\n",
    "*To get the units converted to Australian measurements, the equation 'mmol/L = (mg/dL)/18' is used. The int(intput) function and the variables x and y are also used to get the user to type - in numbers - how many value points they need, before the data is generated.*\n",
    "*If the user inputs the wrong unit, they will be notfied.*"
   ]
  },
  {
   "cell_type": "code",
   "execution_count": null,
   "metadata": {},
   "outputs": [],
   "source": [
    "import random\n",
    "\n",
    "print(\"Unit specification program: Blood glucose levels. Developed by - Madeleine.\\n\")\n",
    "unit = input(\"Please specify a unit (mg/dL or mmol/L):\\t\") #user inputs which unit they would like\n",
    "if unit == \"mg/dL\": #conditional statement \n",
    "    x = int(input(\"Please enter how many values you need:\\t\")) #user inputs how many value points they need\n",
    "    list = []\n",
    "    for i in range(x):\n",
    "        list.append(random.randint(60, 126)) #random.randint function will print random numbers between the specified numbers of 60,126\n",
    "    print(\"Blood glucose levels in mg/dL units:\\t\", list) #will print how many value points the user needs in this specific unit\n",
    "elif unit == \"mmol/L\": #conditional statement\n",
    "    y = int(input(\"Please enter how many values you need: \")) #user inputs how many value points they need\n",
    "    list = []\n",
    "    for i in range(y):\n",
    "        list.append(random.randint(60, 126)/18) #will print how many value points the user needs in this unit using the equation to convert\n",
    "    print(\"Blood glucose levels in mmol/L units:\\t\", list) #user inputs how many value points they need\n",
    "else:\n",
    "    print(\"wrong unit entered.\") #if user inputs wrong unit, they will be told it is invalid\n"
   ]
  },
  {
   "cell_type": "markdown",
   "metadata": {},
   "source": [
    "**While Loops:**"
   ]
  },
  {
   "cell_type": "markdown",
   "metadata": {},
   "source": [
    "*A program that will try and guess a number between 1 and 100 with user input. The program will choose a random number within range and ask the user if they have guessed accurately. If the user says 'no', the program will loop again, generating another random number within the range. This will continue until the user says 'yes'.*\n"
   ]
  },
  {
   "cell_type": "code",
   "execution_count": null,
   "metadata": {},
   "outputs": [],
   "source": [
    "import random\n",
    "\n",
    "print(\"Pick a Number! program\\n\") \n",
    "print(\"Pick a number between 1 and 100 and I'll try to guess it\")\n",
    "correct = \"no\"\n",
    "while(correct == \"no\"): #while loop used to determine if program is correct. If not, it will keep going till its right\n",
    "    guess = random.randint(1, 100) #program will guess a number between 1 and 100\n",
    "    correct = input(\"Is your number \"+str(guess)+\"? \") #user will give an answer of no or yes. If now, loop will continue. If yes, loop will stop.\n",
    "print(\"Hooray! I guessed your number was \"+str(guess)) #if user inputs 'yes', program will stop"
   ]
  },
  {
   "cell_type": "markdown",
   "metadata": {},
   "source": [
    "**Password Checker:**"
   ]
  },
  {
   "cell_type": "markdown",
   "metadata": {},
   "source": [
    "*A program designed to check the strength of a password by making sure the user inputs one that is between 6 - 10 characters and contains at least 1 letter and 1 nnumber. If th user does not input a valid password, the program will loop till one is created.*"
   ]
  },
  {
   "cell_type": "code",
   "execution_count": null,
   "metadata": {},
   "outputs": [],
   "source": [
    "MIN_LENGTH = 6\n",
    "MAX_LENGTH = 10\n",
    "\n",
    "print(\"PasswordChecker program developed by: Madeleine.\\n\")\n",
    "while True:      # while loop lets the program run till user puts in valid password.\n",
    "    password_check = input(\"Please enter a valid password:\\t\")         # requests user input.\n",
    "    if  len(password_check) < MIN_LENGTH or len(password_check) > MAX_LENGTH:      # user will be asked to re enter password if it is not between 6-10 characters long.\n",
    "        print(\"Make sure your password has between 6-10 characters.\")\n",
    "    elif not any(char.isnumeric() for char in password_check):      # requests user to input password again as it only contains letters.\n",
    "        print(\"Password is weak! - must contain at least 1 number.\")\n",
    "    elif not any(char.isalpha() for char in password_check):        # requests user to input password again as it only contains numbers.\n",
    "        print(\"Password is weak! - must contain at least 1 letter.\")\n",
    "    else:       # if user inputs a password between 6-10 characters with at least 1 number/1 letter then output will show the password is strong.\n",
    "        print(\"Password is strong!\")\n",
    "        break       # stops loop if user inputs a password that contains both letters and numbers.\n"
   ]
  }
 ],
 "metadata": {
  "kernelspec": {
   "display_name": "Python 3",
   "language": "python",
   "name": "python3"
  },
  "language_info": {
   "codemirror_mode": {
    "name": "ipython",
    "version": 3
   },
   "file_extension": ".py",
   "mimetype": "text/x-python",
   "name": "python",
   "nbconvert_exporter": "python",
   "pygments_lexer": "ipython3",
   "version": "3.8.5"
  }
 },
 "nbformat": 4,
 "nbformat_minor": 4
}
